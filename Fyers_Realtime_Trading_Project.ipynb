{
 "cells": [
  {
   "cell_type": "markdown",
   "metadata": {},
   "source": [
    "### Here , we are importing all the required libraries"
   ]
  },
  {
   "cell_type": "code",
   "execution_count": 27,
   "metadata": {},
   "outputs": [],
   "source": [
    "import pandas as pd\n",
    "import yfinance as yf\n",
    "from datetime import datetime, timedelta\n",
    "import time\n",
    "import pytz\n",
    "import os\n",
    "import sys\n",
    "import requests\n",
    "from urllib.parse import urlparse, parse_qs\n",
    "from fyers_apiv3 import fyersModel\n",
    "import webbrowser"
   ]
  },
  {
   "cell_type": "markdown",
   "metadata": {},
   "source": [
    "### Then we are generating a unique authentication code for our new login in our account"
   ]
  },
  {
   "cell_type": "code",
   "execution_count": 28,
   "metadata": {},
   "outputs": [
    {
     "name": "stdout",
     "output_type": "stream",
     "text": [
      "https://api-t1.fyers.in/api/v3/generate-authcode?client_id=1DCDP9SIPV-100&redirect_uri=https%3A%2F%2Ftrade.fyers.in%2Fapi-login%2Fredirect-uri%2Findex.html&response_type=code&state=sample\n"
     ]
    },
    {
     "data": {
      "text/plain": [
       "True"
      ]
     },
     "execution_count": 28,
     "metadata": {},
     "output_type": "execute_result"
    }
   ],
   "source": [
    "redirect_uri= \"https://trade.fyers.in/api-login/redirect-uri/index.html\"       ## redircet_uri you entered while creating APP.\n",
    "\n",
    "client_id =  \"put_your_unique_client_id_here\"                                   ## Client_id here refers to APP_ID of the created app\n",
    "secret_key = \"put_your_unique_secret_id_here\"                                  ## app_secret key which you got after creating the app \n",
    "\n",
    "grant_type = \"authorization_code\"                                              ## The grant_type always has to be \"authorization_code\"\n",
    "response_type = \"code\"                                                         ## The response_type always has to be \"code\"\n",
    "state = \"sample\"                                                               \n",
    "\n",
    "# Connect to the sessionModel object here with the required input parameters\n",
    "appSession = fyersModel.SessionModel(client_id = client_id, redirect_uri = redirect_uri,response_type=response_type,state=state,secret_key=secret_key,grant_type=grant_type)\n",
    "\n",
    "# Make  a request to generate_authcode object this will return a login url \n",
    "# which you need to open in your browser \n",
    "# from where you can get the generated auth_code \n",
    "generateTokenUrl = appSession.generate_authcode()\n",
    "\n",
    "print((generateTokenUrl))  \n",
    "\n",
    "webbrowser.open(generateTokenUrl,new=1)\n",
    "\n",
    "# run the code firstly upto this after you generate the auth_code comment the above code and start executing the below code"
   ]
  },
  {
   "cell_type": "markdown",
   "metadata": {},
   "source": [
    "### After succesfull login , kindly copy the generated auth_code over here and make the request to generate the accessToken "
   ]
  },
  {
   "cell_type": "code",
   "execution_count": 29,
   "metadata": {},
   "outputs": [],
   "source": [
    "auth_code = input(\"Kindly enter the copied auth_code here - \")"
   ]
  },
  {
   "cell_type": "markdown",
   "metadata": {},
   "source": [
    "### Now we are logging in our FYERS trading account"
   ]
  },
  {
   "cell_type": "code",
   "execution_count": 30,
   "metadata": {},
   "outputs": [
    {
     "name": "stdout",
     "output_type": "stream",
     "text": [
      "We have successfully logged into your FYERS account having details \n"
     ]
    }
   ],
   "source": [
    "appSession.set_token(auth_code)\n",
    "response = appSession.generate_token()\n",
    "\n",
    "try: \n",
    "    access_token = response[\"access_token\"]\n",
    "except Exception as e:\n",
    "    print(e,response) \n",
    "\n",
    "\n",
    "fyers = fyersModel.FyersModel(token=access_token,is_async=False,client_id=client_id,log_path=\"\")\n",
    "\n",
    "print(\"We have successfully logged into your FYERS account having details \")\n",
    "\n",
    "# print( fyers.get_profile() )"
   ]
  },
  {
   "cell_type": "markdown",
   "metadata": {},
   "source": [
    "### All the required functions are executed below -"
   ]
  },
  {
   "cell_type": "code",
   "execution_count": 31,
   "metadata": {},
   "outputs": [
    {
     "name": "stdout",
     "output_type": "stream",
     "text": [
      "\n",
      "Current date and timing is - 2024-07-01 11:47:41.525957\n",
      "Current Week Expiry is on - 2024-07-03\n",
      "Next Week Expiry is on - 2024-07-10\n"
     ]
    }
   ],
   "source": [
    "IST = pytz.timezone('Asia/Kolkata')\n",
    "\n",
    "def get_expiry():\n",
    "    global expiry, df_symbols, next_expiry, df_symbols_next_exp, lot_size\n",
    "    fyers_fo = \"https://public.fyers.in/sym_details/NSE_FO.csv\"\n",
    "    df_symbols = pd.read_csv(fyers_fo, index_col=False, header=None)\n",
    "    df_symbols = df_symbols[df_symbols[13] =='BANKNIFTY' ]\n",
    "    df_symbols.reset_index(drop=True, inplace=True)\n",
    "    df_symbols[8] = pd.to_datetime(df_symbols[8],unit='s').dt.date\n",
    "    exps = sorted(df_symbols[8].unique())\n",
    "    expiry = exps[0]\n",
    "    next_expiry = exps[1]\n",
    "    print()\n",
    "    print(f\"Current date and timing is - {datetime.today().now()}\")\n",
    "    print(f\"Current Week Expiry is on - {expiry}\")\n",
    "    print(f\"Next Week Expiry is on - {next_expiry}\")\n",
    "    \n",
    "    df_symbols_next_exp = df_symbols[df_symbols[8]==next_expiry]\n",
    "    df_symbols = df_symbols[df_symbols[8]==expiry]\n",
    "    lot_size = df_symbols.loc[0,3]\n",
    "\n",
    "def get_symbol(strike, ce=True,next_expiry=False):\n",
    "    try:\n",
    "        if next_expiry:\n",
    "            if ce == True:\n",
    "                return(df_symbols_next_exp[df_symbols_next_exp[1].str.contains(strike+' CE')].iloc[0,9])\n",
    "            else:\n",
    "                return(df_symbols_next_exp[df_symbols_next_exp[1].str.contains(strike+' PE')].iloc[0,9])\n",
    "        else:\n",
    "            if ce == True:\n",
    "                return(df_symbols[df_symbols[1].str.contains(strike+' CE')].iloc[0,9])\n",
    "            else:\n",
    "                return(df_symbols[df_symbols[1].str.contains(strike+' PE')].iloc[0,9])\n",
    "    except Exception as e:\n",
    "        print(f\"Error while fetching symbol {strike} and CE {ce}- {e}\")\n",
    "        \n",
    "def get_ltp(symbol):\n",
    "    quote = fyers.quotes({\"symbols\":symbol})\n",
    "    print(quote)                                  # this gives following error when our token expires\n",
    "    if quote['d'][0]['n'] == symbol:              # {'s': 'error', 'code': -8, 'message': 'Your token has expired. Please generate a token'}\n",
    "        return(quote['d'][0]['v']['lp'])          # solution = call the check() code line       \n",
    "\n",
    "def get_all_symbols(next_expiry=False):\n",
    "    global ce_list, pe_list\n",
    "    ce_list = []\n",
    "    pe_list = []\n",
    "    i=20   # no of strikes above and below the spot price\n",
    "    \n",
    "    # bn_atm = round(get_ltp(\"NSE:BANKNIFTY24JULFUT\") , -2)\n",
    "\n",
    "    while i != 0:\n",
    "        ce_list.append(get_symbol(str(bn_atm + i*100), ce=True,next_expiry= next_expiry))\n",
    "        pe_list.append(get_symbol(str(bn_atm - i*100), ce=False, next_expiry=next_expiry))\n",
    "        i = i - 1\n",
    "\n",
    "    return ce_list + pe_list\n",
    "\n",
    "\n",
    "get_expiry()"
   ]
  },
  {
   "cell_type": "markdown",
   "metadata": {},
   "source": [
    "### This is the main portion of our code"
   ]
  },
  {
   "cell_type": "code",
   "execution_count": 32,
   "metadata": {},
   "outputs": [],
   "source": [
    "def get_ltp(symbol):\n",
    "    quote = fyers.quotes({\"symbols\":symbol})\n",
    "    print(quote)                              \n",
    "    if quote['d'][0]['n'] == symbol:          \n",
    "        return(quote['d'][0]['v']['lp'])      "
   ]
  },
  {
   "cell_type": "code",
   "execution_count": 33,
   "metadata": {},
   "outputs": [
    {
     "name": "stdout",
     "output_type": "stream",
     "text": [
      "{'message': '', 'code': 200, 'd': [{'n': 'NSE:BANKNIFTY24JULFUT', 'v': {'ask': 52730, 'bid': 52722.5, 'chp': 0.36, 'ch': 191.3, 'description': 'NSE:BANKNIFTY24JULFUT', 'exchange': 'NSE', 'fyToken': '101124073135165', 'high_price': 52779.9, 'low_price': 52301, 'lp': 52721, 'open_price': 52524, 'original_name': 'NSE:BANKNIFTY24JULFUT', 'prev_close_price': 52529.7, 'short_name': 'BANKNIFTY24JULFUT', 'spread': 7.5, 'symbol': 'NSE:BANKNIFTY24JULFUT', 'tt': '1719792000', 'volume': 1048410}, 's': 'ok'}], 's': 'ok'}\n"
     ]
    }
   ],
   "source": [
    "bn_atm = int(round(get_ltp(\"NSE:BANKNIFTY24JULFUT\") , -2))"
   ]
  },
  {
   "cell_type": "code",
   "execution_count": 34,
   "metadata": {},
   "outputs": [
    {
     "name": "stdout",
     "output_type": "stream",
     "text": [
      "We are initialising the algo at 2024-07-01 11:47:41.838687\n",
      "\n",
      "Scripts choosen by you for trading are :-\n",
      "['NSE:BANKNIFTY2470354700CE', 'NSE:BANKNIFTY2470354600CE', 'NSE:BANKNIFTY2470354500CE', 'NSE:BANKNIFTY2470354400CE', 'NSE:BANKNIFTY2470354300CE', 'NSE:BANKNIFTY2470354200CE', 'NSE:BANKNIFTY2470354100CE', 'NSE:BANKNIFTY2470354000CE', 'NSE:BANKNIFTY2470353900CE', 'NSE:BANKNIFTY2470353800CE', 'NSE:BANKNIFTY2470353700CE', 'NSE:BANKNIFTY2470353600CE', 'NSE:BANKNIFTY2470353500CE', 'NSE:BANKNIFTY2470353400CE', 'NSE:BANKNIFTY2470353300CE', 'NSE:BANKNIFTY2470353200CE', 'NSE:BANKNIFTY2470353100CE', 'NSE:BANKNIFTY2470353000CE', 'NSE:BANKNIFTY2470352900CE', 'NSE:BANKNIFTY2470352800CE', 'NSE:BANKNIFTY2470350700PE', 'NSE:BANKNIFTY2470350800PE', 'NSE:BANKNIFTY2470350900PE', 'NSE:BANKNIFTY2470351000PE', 'NSE:BANKNIFTY2470351100PE', 'NSE:BANKNIFTY2470351200PE', 'NSE:BANKNIFTY2470351300PE', 'NSE:BANKNIFTY2470351400PE', 'NSE:BANKNIFTY2470351500PE', 'NSE:BANKNIFTY2470351600PE', 'NSE:BANKNIFTY2470351700PE', 'NSE:BANKNIFTY2470351800PE', 'NSE:BANKNIFTY2470351900PE', 'NSE:BANKNIFTY2470352000PE', 'NSE:BANKNIFTY2470352100PE', 'NSE:BANKNIFTY2470352200PE', 'NSE:BANKNIFTY2470352300PE', 'NSE:BANKNIFTY2470352400PE', 'NSE:BANKNIFTY2470352500PE', 'NSE:BANKNIFTY2470352600PE']\n"
     ]
    }
   ],
   "source": [
    "print(f\"We are initialising the algo at {datetime.today().now()}\")\n",
    "\n",
    "# yf_scrips = [ \"MCX:NATURALGAS23NOVFUT\" , \"MCX:CRUDEOIL23NOVFUT\" ]\n",
    "# yf_scrips = [ \"NSE:BANKNIFTY2JULFUT\" ] \n",
    "# yf_scrips = [\"NSE:NIFTYBANK-INDEX\"]\n",
    "yf_scrips = get_all_symbols()\n",
    "\n",
    "print()\n",
    "print(\"Scripts choosen by you for trading are :-\")\n",
    "print(yf_scrips)\n"
   ]
  },
  {
   "cell_type": "code",
   "execution_count": 35,
   "metadata": {},
   "outputs": [],
   "source": [
    "def fetch_current_time():\n",
    "    return list(map(int, datetime.today().now(IST).strftime(\"%H %M %S\").split()))\n",
    "\n",
    "\n",
    "def historical_bydate(symbol,sd,ed):\n",
    "        data = {\"symbol\":symbol,\"resolution\":\"1\",\"date_format\":\"1\",\"range_from\":str(sd),\"range_to\":str(ed),\"cont_flag\":\"1\"}\n",
    "        # print(data)\n",
    "        nx = fyers.history(data)\n",
    "        # print(nx)\n",
    "        nx1 = nx[\"candles\"]\n",
    "        cols = ['datetime','open','high','low','close','volume']\n",
    "        df = pd.DataFrame.from_dict(nx1)\n",
    "        df.columns = cols\n",
    "        df['datetime'] = pd.to_datetime(df['datetime'],unit = \"s\")\n",
    "        df['datetime'] = df['datetime'].dt.tz_localize('utc').dt.tz_convert('Asia/Kolkata')\n",
    "        df['datetime'] = df['datetime'].dt.tz_localize(None)\n",
    "        df = df.set_index('datetime')\n",
    "        return df\n",
    "    \n",
    "def place_order(symb, qnty, order_side, lmt, stop_price, stop_loss, take_profit):\n",
    "    fyers.place_order(data = {\"symbol\" : symb,\"qty\" : qnty,\"type\" : 4,\"side\" : order_side,\"productType\" : \"INTRADAY\",\"limitPrice\" : lmt,\"stopPrice\" : stop_price,\"disclosedQty\" : 0,\"validity\" : \"DAY\",\"offlineOrder\" : \"False\",\"stopLoss\" : stop_loss,\"takeProfit\" : take_profit})    "
   ]
  },
  {
   "cell_type": "code",
   "execution_count": 36,
   "metadata": {},
   "outputs": [
    {
     "data": {
      "text/html": [
       "<iframe width=\"560\" height=\"315\" src=\"https://www.youtube.com/embed/rIHcv2fdom8?si=4EmVUv_n8BtEJS4b&amp;start=32\" title=\"YouTube video player\" frameborder=\"0\" allow=\"accelerometer; autoplay; clipboard-write; encrypted-media; gyroscope; picture-in-picture; web-share\" referrerpolicy=\"strict-origin-when-cross-origin\" allowfullscreen>\n"
      ],
      "text/plain": [
       "<IPython.core.display.HTML object>"
      ]
     },
     "metadata": {},
     "output_type": "display_data"
    }
   ],
   "source": [
    "%%html\n",
    "<iframe width=\"560\" height=\"315\" src=\"https://www.youtube.com/embed/rIHcv2fdom8?si=4EmVUv_n8BtEJS4b&amp;start=32\" title=\"YouTube video player\" frameborder=\"0\" allow=\"accelerometer; autoplay; clipboard-write; encrypted-media; gyroscope; picture-in-picture; web-share\" referrerpolicy=\"strict-origin-when-cross-origin\" allowfullscreen>"
   ]
  },
  {
   "cell_type": "code",
   "execution_count": 37,
   "metadata": {},
   "outputs": [],
   "source": [
    "# The inside bar strategy implemented below is explained in above embedded video.\n",
    "# Kindly check the above video for clear understanding of whole logic of this strategy.\n",
    "\n",
    "def inside_bar(margin,symb,hi,lo,cl,op):\n",
    "\n",
    "    # margin is our total balance available for trading\n",
    "    # symb is the name of element which we want to trade\n",
    "    # hi,lo,cl,op are lists containing corresponding - high , low , close  , open - prices\n",
    "\n",
    "    # for FYERS                                    # -> via body length , we are checking green or red candle\n",
    "    len_ic = hi[-2] - lo[-2]                       # length of body of inside candle    \n",
    "    body_ic = cl[-2] - op[-2]                      # total length of inside candle\n",
    "    body_length = cl[-3] - op[-3]                  # length of body of mother candle\n",
    "    candle_length = hi[-3] - lo[-3]                # total length of mother candle      \n",
    "\n",
    "    period = list(map(int, datetime.today().now(IST).strftime(\"%H %M %S\").split()))\n",
    "\n",
    "    print(\"I am scanning for inside bars in \"+ symb + \" at \" + str(period) , end = \"\\n\" )\n",
    "    \n",
    "    if body_ic*body_length >= 0:\n",
    "        return 0\n",
    "    \n",
    "    elif (hi[-3] - lo[-3] / hi[-3] > 0.8):\n",
    "        \n",
    "        if (lo[-2] > lo[-3]) and (hi[-2] <= hi[-3]):\n",
    "\n",
    "            if body_length > 0:\n",
    "                print(f\"Bar having high - {hi[-2]} and low - {lo[-2]} is found inside mother bar having high - {hi[-3]} and low - {lo[-3]}\")\n",
    "                print(f\"---->   Going long for {symb} at price {hi[-2]} \" + str(period))\n",
    "                qnty = 1\n",
    "                lt = 0.05 + hi[-2]\n",
    "\n",
    "                order_data = place_order(symb,qnty,1,lt,hi[-2],len_ic,2*len_ic)       \n",
    "                return 1\n",
    "\n",
    "            else:\n",
    "                print(f\"---->   Going short for {symb} at price {lo[-2]} \" + str(period))\n",
    "                print(f\"Bar having high - {hi[-2]} and low - {lo[-2]} is found inside mother bar having high - {hi[-3]} and low - {lo[-3]}\")\n",
    "                qnty = 1\n",
    "                lt = lo[-2] - 0.05\n",
    "\n",
    "                order_data = place_order(symb,qnty,-2,lt,lo[-2],len_ic,2*len_ic)                 \n",
    "                return -2\n",
    "    else:\n",
    "        return 0\n",
    "                       \n",
    "      \n",
    "\n",
    "margin = 300000                     #Total Capital for trading in INR\n",
    "interval = 1                        # Candle Interval (1,5,15,30,60)  ( Recommended is 15 for buying )"
   ]
  },
  {
   "cell_type": "code",
   "execution_count": 39,
   "metadata": {},
   "outputs": [
    {
     "name": "stdout",
     "output_type": "stream",
     "text": [
      "I am scanning for inside bars in NSE:BANKNIFTY2470354700CE at [12, 48, 13]\n",
      "I am scanning for inside bars in NSE:BANKNIFTY2470354600CE at [12, 48, 14]\n",
      "I am scanning for inside bars in NSE:BANKNIFTY2470354500CE at [12, 48, 14]\n",
      "I am scanning for inside bars in NSE:BANKNIFTY2470354400CE at [12, 48, 14]\n",
      "I am scanning for inside bars in NSE:BANKNIFTY2470354300CE at [12, 48, 15]\n",
      "I am scanning for inside bars in NSE:BANKNIFTY2470354200CE at [12, 48, 15]\n",
      "I am scanning for inside bars in NSE:BANKNIFTY2470354100CE at [12, 48, 15]\n",
      "I am scanning for inside bars in NSE:BANKNIFTY2470354000CE at [12, 48, 16]\n",
      "I am scanning for inside bars in NSE:BANKNIFTY2470353900CE at [12, 48, 16]\n",
      "I am scanning for inside bars in NSE:BANKNIFTY2470353800CE at [12, 48, 16]\n",
      "I am scanning for inside bars in NSE:BANKNIFTY2470353700CE at [12, 48, 17]\n",
      "I am scanning for inside bars in NSE:BANKNIFTY2470353600CE at [12, 48, 17]\n",
      "I am scanning for inside bars in NSE:BANKNIFTY2470353500CE at [12, 48, 17]\n",
      "I am scanning for inside bars in NSE:BANKNIFTY2470353400CE at [12, 48, 18]\n",
      "I am scanning for inside bars in NSE:BANKNIFTY2470353300CE at [12, 48, 18]\n",
      "I am scanning for inside bars in NSE:BANKNIFTY2470353200CE at [12, 48, 18]\n",
      "I am scanning for inside bars in NSE:BANKNIFTY2470353100CE at [12, 48, 19]\n",
      "I am scanning for inside bars in NSE:BANKNIFTY2470353000CE at [12, 48, 19]\n",
      "I am scanning for inside bars in NSE:BANKNIFTY2470352900CE at [12, 48, 19]\n",
      "I am scanning for inside bars in NSE:BANKNIFTY2470352800CE at [12, 48, 20]\n",
      "I am scanning for inside bars in NSE:BANKNIFTY2470350700PE at [12, 48, 20]\n",
      "I am scanning for inside bars in NSE:BANKNIFTY2470350800PE at [12, 48, 20]\n",
      "I am scanning for inside bars in NSE:BANKNIFTY2470350900PE at [12, 48, 21]\n",
      "I am scanning for inside bars in NSE:BANKNIFTY2470351000PE at [12, 48, 21]\n",
      "---->   Going short for NSE:BANKNIFTY2470351000PE at price 18.55 [12, 48, 21]\n",
      "Bar having high - 18.85 and low - 18.55 is found inside mother bar having high - 18.85 and low - 18.35\n",
      "I am scanning for inside bars in NSE:BANKNIFTY2470351100PE at [12, 48, 22]\n",
      "I am scanning for inside bars in NSE:BANKNIFTY2470351200PE at [12, 48, 22]\n",
      "I am scanning for inside bars in NSE:BANKNIFTY2470351300PE at [12, 48, 22]\n",
      "I am scanning for inside bars in NSE:BANKNIFTY2470351400PE at [12, 48, 23]\n",
      "I am scanning for inside bars in NSE:BANKNIFTY2470351500PE at [12, 48, 23]\n",
      "I am scanning for inside bars in NSE:BANKNIFTY2470351600PE at [12, 48, 23]\n",
      "I am scanning for inside bars in NSE:BANKNIFTY2470351700PE at [12, 48, 23]\n",
      "I am scanning for inside bars in NSE:BANKNIFTY2470351800PE at [12, 48, 24]\n",
      "I am scanning for inside bars in NSE:BANKNIFTY2470351900PE at [12, 48, 24]\n",
      "I am scanning for inside bars in NSE:BANKNIFTY2470352000PE at [12, 48, 25]\n",
      "I am scanning for inside bars in NSE:BANKNIFTY2470352100PE at [12, 48, 25]\n",
      "I am scanning for inside bars in NSE:BANKNIFTY2470352200PE at [12, 48, 25]\n",
      "I am scanning for inside bars in NSE:BANKNIFTY2470352300PE at [12, 48, 25]\n",
      "I am scanning for inside bars in NSE:BANKNIFTY2470352400PE at [12, 48, 26]\n",
      "I am scanning for inside bars in NSE:BANKNIFTY2470352500PE at [12, 48, 26]\n",
      "I am scanning for inside bars in NSE:BANKNIFTY2470352600PE at [12, 48, 26]\n",
      "Let's wait for 34 seconds for next data point\n",
      ". . . . . . . . . . . . . . . "
     ]
    },
    {
     "ename": "KeyboardInterrupt",
     "evalue": "",
     "output_type": "error",
     "traceback": [
      "\u001b[1;31m---------------------------------------------------------------------------\u001b[0m",
      "\u001b[1;31mKeyboardInterrupt\u001b[0m                         Traceback (most recent call last)",
      "Cell \u001b[1;32mIn[39], line 52\u001b[0m\n\u001b[0;32m     50\u001b[0m             \u001b[38;5;28mprint\u001b[39m(\u001b[38;5;124m\"\u001b[39m\u001b[38;5;124m.\u001b[39m\u001b[38;5;124m\"\u001b[39m ,  end \u001b[38;5;241m=\u001b[39m \u001b[38;5;124m\"\u001b[39m\u001b[38;5;124m \u001b[39m\u001b[38;5;124m\"\u001b[39m)\n\u001b[0;32m     51\u001b[0m             rem_time \u001b[38;5;241m=\u001b[39m rem_time \u001b[38;5;241m-\u001b[39m \u001b[38;5;241m1\u001b[39m\n\u001b[1;32m---> 52\u001b[0m             \u001b[43mtime\u001b[49m\u001b[38;5;241;43m.\u001b[39;49m\u001b[43msleep\u001b[49m\u001b[43m(\u001b[49m\u001b[38;5;241;43m1\u001b[39;49m\u001b[43m)\u001b[49m\n\u001b[0;32m     54\u001b[0m \u001b[38;5;28mprint\u001b[39m()\n\u001b[0;32m     55\u001b[0m \u001b[38;5;28mprint\u001b[39m()    \n",
      "\u001b[1;31mKeyboardInterrupt\u001b[0m: "
     ]
    }
   ],
   "source": [
    "while(1):\n",
    "    \n",
    "    current_time = fetch_current_time()\n",
    "        \n",
    "    if current_time[1]%interval == 0 :    \n",
    "\n",
    "        startdate = datetime.today().date() - timedelta(days=5)\n",
    "        enddate = datetime.today().date()\n",
    "        his_data = historical_bydate( yf_scrips[0] , startdate , enddate )\n",
    "        \n",
    "        latest_fetched_bar_time = fetch_current_time()\n",
    "\n",
    "        if (latest_fetched_bar_time[1] - 2 )   <  current_time[1]  <  (latest_fetched_bar_time[1] + 2 ) : \n",
    "\n",
    "            order_ids = []\n",
    "            pos = fyers.positions()\n",
    "            pos_list = []\n",
    "\n",
    "            try:\n",
    "                pos_list = list(pd.DataFrame(pos[\"data\"][\"netPositions\"])['symbol'])\n",
    "            except:\n",
    "                pass\n",
    "\n",
    "            for i in range(len(yf_scrips)):\n",
    "    \n",
    "                if yf_scrips[i] in pos_list:\n",
    "                    continue\n",
    "\n",
    "                try :\n",
    "                    data = historical_bydate( yf_scrips[i] , startdate , enddate)\n",
    "                except:\n",
    "                    print(f\"Error in fetching historical data for {yf_scrips[i]}\")\n",
    "                    continue\n",
    "\n",
    "                hi = list(data['high'])\n",
    "                lo = list(data['low'])\n",
    "                op = list(data['open'])\n",
    "                cl = list(data['close'])\n",
    "                \n",
    "                result = inside_bar( margin, yf_scrips[i] , hi, lo, cl, op )        \n",
    "                \n",
    "            \n",
    "\n",
    "            current_time = fetch_current_time()\n",
    "            rem_time = 60 - current_time[2]\n",
    "           \n",
    "            print(\"Let's wait for \" + str( (abs(rem_time)) ) + \" seconds for next data point\") \n",
    "            \n",
    "            while rem_time > 0 :\n",
    "                print(\".\" ,  end = \" \")\n",
    "                rem_time = rem_time - 1\n",
    "                time.sleep(1)\n",
    "                \n",
    "    print()\n",
    "    print()    \n",
    "    print()"
   ]
  },
  {
   "cell_type": "code",
   "execution_count": null,
   "metadata": {},
   "outputs": [],
   "source": []
  }
 ],
 "metadata": {
  "kernelspec": {
   "display_name": "Python 3",
   "language": "python",
   "name": "python3"
  },
  "language_info": {
   "codemirror_mode": {
    "name": "ipython",
    "version": 3
   },
   "file_extension": ".py",
   "mimetype": "text/x-python",
   "name": "python",
   "nbconvert_exporter": "python",
   "pygments_lexer": "ipython3",
   "version": "3.10.3"
  },
  "orig_nbformat": 4
 },
 "nbformat": 4,
 "nbformat_minor": 2
}
